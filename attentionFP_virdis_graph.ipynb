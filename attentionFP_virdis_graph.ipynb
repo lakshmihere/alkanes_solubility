{
 "cells": [
  {
   "cell_type": "code",
   "execution_count": 1,
   "id": "b752c905-3f82-47df-8587-28519cd909f1",
   "metadata": {},
   "outputs": [],
   "source": [
    "%%capture\n",
    "import numpy as np\n",
    "import pandas as pd\n",
    "import matplotlib.pyplot as plt\n",
    "import seaborn as sns\n",
    "import networkx as nx\n",
    "from math import sqrt\n",
    "\n",
    "\n",
    "import os,sys\n",
    "import time, csv\n",
    "import random\n",
    "from collections import Counter"
   ]
  },
  {
   "cell_type": "code",
   "execution_count": 2,
   "id": "07d5c75d-f8ef-4ff5-b7df-1a219be1366f",
   "metadata": {},
   "outputs": [],
   "source": [
    "import rdkit\n",
    "from rdkit import Chem\n",
    "from rdkit.Chem import AllChem, Draw, PandasTools, Descriptors\n",
    "# from rdkit.Chem.rdmolops import GetAdjacencyMatrix\n",
    "# from rdkit.Chem.Draw import IPythonConsole\n",
    "# from tqdm import tqdm\n",
    "\n",
    "import torch\n",
    "import torch.nn.functional as F\n",
    "from torch.utils.data import random_split\n",
    "\n",
    "from torch_geometric.data import Data\n",
    "from torch_geometric.loader import DataLoader\n",
    "from torch_geometric.utils import to_networkx\n",
    "from torch_geometric.nn import AttentiveFP\n",
    "\n",
    "from torch_geometric.data import InMemoryDataset, download_url, extract_gz\n",
    "from torch_geometric.utils import from_smiles\n",
    "from sklearn.metrics import r2_score, mean_squared_error"
   ]
  },
  {
   "cell_type": "code",
   "execution_count": 3,
   "id": "a669f262-36e9-4892-9884-c3297efffef9",
   "metadata": {},
   "outputs": [],
   "source": [
    "# print(plt.style.available)\n",
    "plt.style.use('ggplot')"
   ]
  },
  {
   "cell_type": "code",
   "execution_count": 4,
   "id": "ceb60e99-64c6-459f-9bd7-529d71959b89",
   "metadata": {},
   "outputs": [],
   "source": [
    "def seed_set(seed=50):\n",
    "    random.seed(seed)\n",
    "    os.environ['PYTHONHASHSEED'] = str(seed)\n",
    "    np.random.seed(seed)\n",
    "    torch.manual_seed(seed)\n",
    "    torch.cuda.manual_seed(seed)"
   ]
  },
  {
   "cell_type": "code",
   "execution_count": 5,
   "id": "6089dcaf-15ff-4206-b881-9bff1cd086f4",
   "metadata": {},
   "outputs": [],
   "source": [
    "seed_set()"
   ]
  },
  {
   "cell_type": "code",
   "execution_count": 6,
   "id": "a73467f8-f8dc-4749-9a8f-9869781accfc",
   "metadata": {},
   "outputs": [],
   "source": [
    "df_final = pd.read_csv('virdis_solu_final_5.csv')"
   ]
  },
  {
   "cell_type": "code",
   "execution_count": 7,
   "id": "3064f051-b733-4c25-828a-b335430f5f0b",
   "metadata": {},
   "outputs": [
    {
     "data": {
      "text/html": [
       "<div>\n",
       "<style scoped>\n",
       "    .dataframe tbody tr th:only-of-type {\n",
       "        vertical-align: middle;\n",
       "    }\n",
       "\n",
       "    .dataframe tbody tr th {\n",
       "        vertical-align: top;\n",
       "    }\n",
       "\n",
       "    .dataframe thead th {\n",
       "        text-align: right;\n",
       "    }\n",
       "</style>\n",
       "<table border=\"1\" class=\"dataframe\">\n",
       "  <thead>\n",
       "    <tr style=\"text-align: right;\">\n",
       "      <th></th>\n",
       "      <th>smiles</th>\n",
       "      <th>log_sol</th>\n",
       "    </tr>\n",
       "  </thead>\n",
       "  <tbody>\n",
       "    <tr>\n",
       "      <th>0</th>\n",
       "      <td>C1=CC(=C(C=C1[N+](=O)[O-])[N+](=O)[O-])Cl</td>\n",
       "      <td>-4.340860</td>\n",
       "    </tr>\n",
       "    <tr>\n",
       "      <th>1</th>\n",
       "      <td>C(CCl)Cl</td>\n",
       "      <td>-1.060961</td>\n",
       "    </tr>\n",
       "    <tr>\n",
       "      <th>2</th>\n",
       "      <td>C1=CC(=C(C=C1Cl)Cl)Cl</td>\n",
       "      <td>-3.568441</td>\n",
       "    </tr>\n",
       "    <tr>\n",
       "      <th>3</th>\n",
       "      <td>C1=CC(=C(C=C1Cl)O)Cl</td>\n",
       "      <td>-1.420497</td>\n",
       "    </tr>\n",
       "    <tr>\n",
       "      <th>4</th>\n",
       "      <td>C1=CC(=CC(=C1)O)C=O</td>\n",
       "      <td>-1.230058</td>\n",
       "    </tr>\n",
       "  </tbody>\n",
       "</table>\n",
       "</div>"
      ],
      "text/plain": [
       "                                      smiles   log_sol\n",
       "0  C1=CC(=C(C=C1[N+](=O)[O-])[N+](=O)[O-])Cl -4.340860\n",
       "1                                   C(CCl)Cl -1.060961\n",
       "2                      C1=CC(=C(C=C1Cl)Cl)Cl -3.568441\n",
       "3                       C1=CC(=C(C=C1Cl)O)Cl -1.420497\n",
       "4                        C1=CC(=CC(=C1)O)C=O -1.230058"
      ]
     },
     "execution_count": 7,
     "metadata": {},
     "output_type": "execute_result"
    }
   ],
   "source": [
    "df_final.head()"
   ]
  },
  {
   "cell_type": "code",
   "execution_count": 27,
   "id": "cec12d96-7124-4844-9a83-9dc46536523e",
   "metadata": {},
   "outputs": [
    {
     "data": {
      "text/plain": [
       "'CC1=CC(=CC=C1)O'"
      ]
     },
     "execution_count": 27,
     "metadata": {},
     "output_type": "execute_result"
    }
   ],
   "source": [
    "smile = df_final['smiles'][32]\n",
    "smile"
   ]
  },
  {
   "cell_type": "code",
   "execution_count": 28,
   "id": "c4a3a319-30dc-465a-862c-936d4e682bd0",
   "metadata": {},
   "outputs": [
    {
     "data": {
      "image/jpeg": "[encoded data removed]",
      "image/png": "[encoded data removed]",
      "text/plain": [
       "<PIL.PngImagePlugin.PngImageFile image mode=RGB size=300x300>"
      ]
     },
     "execution_count": 28,
     "metadata": {},
     "output_type": "execute_result"
    }
   ],
   "source": [
    "mol = Chem.MolFromSmiles(smile)\n",
    "img = Draw.MolToImage(mol)\n",
    "img"
   ]
  },
  {
   "cell_type": "code",
   "execution_count": 29,
   "id": "75383dbf-5140-4f7b-8451-7077d9f6b4d2",
   "metadata": {},
   "outputs": [
    {
     "data": {
      "text/plain": [
       "Data(x=[8, 9], edge_index=[2, 16], edge_attr=[16, 3], smiles='CC1=CC(=CC=C1)O')"
      ]
     },
     "execution_count": 29,
     "metadata": {},
     "output_type": "execute_result"
    }
   ],
   "source": [
    "g = from_smiles(smile, with_hydrogen=False)\n",
    "g"
   ]
  },
  {
   "cell_type": "code",
   "execution_count": 30,
   "id": "96d55c85-7c4e-49d9-aeab-d8c91b463eb2",
   "metadata": {},
   "outputs": [
    {
     "data": {
      "text/plain": [
       "torch.int64"
      ]
     },
     "execution_count": 30,
     "metadata": {},
     "output_type": "execute_result"
    }
   ],
   "source": [
    "type(g)\n",
    "g.x.dtype"
   ]
  },
  {
   "cell_type": "code",
   "execution_count": 31,
   "id": "8bd739cd-dc57-4c2a-9612-b8ac0f37c221",
   "metadata": {},
   "outputs": [
    {
     "data": {
      "text/plain": [
       "tensor([[6, 0, 4, 5, 3, 0, 4, 0, 0],\n",
       "        [6, 0, 3, 5, 0, 0, 3, 1, 1],\n",
       "        [6, 0, 3, 5, 1, 0, 3, 1, 1],\n",
       "        [6, 0, 3, 5, 0, 0, 3, 1, 1],\n",
       "        [6, 0, 3, 5, 1, 0, 3, 1, 1],\n",
       "        [6, 0, 3, 5, 1, 0, 3, 1, 1],\n",
       "        [6, 0, 3, 5, 1, 0, 3, 1, 1],\n",
       "        [8, 0, 2, 5, 1, 0, 3, 0, 0]])"
      ]
     },
     "execution_count": 31,
     "metadata": {},
     "output_type": "execute_result"
    }
   ],
   "source": [
    "g.x"
   ]
  },
  {
   "cell_type": "code",
   "execution_count": 32,
   "id": "7361255f-82ef-4b21-9ab0-a76374404726",
   "metadata": {},
   "outputs": [
    {
     "data": {
      "text/plain": [
       "8"
      ]
     },
     "execution_count": 32,
     "metadata": {},
     "output_type": "execute_result"
    }
   ],
   "source": [
    "g.num_nodes"
   ]
  },
  {
   "cell_type": "code",
   "execution_count": 33,
   "id": "de8f7ff2-7817-473e-810e-fad6310fb357",
   "metadata": {},
   "outputs": [
    {
     "data": {
      "text/plain": [
       "9"
      ]
     },
     "execution_count": 33,
     "metadata": {},
     "output_type": "execute_result"
    }
   ],
   "source": [
    "g.num_node_features"
   ]
  },
  {
   "cell_type": "code",
   "execution_count": 34,
   "id": "7f86a649-97a5-4bf2-b8dc-a9611307515b",
   "metadata": {},
   "outputs": [
    {
     "data": {
      "text/plain": [
       "tensor([[0, 1, 1, 1, 2, 2, 3, 3, 3, 4, 4, 5, 5, 6, 6, 7],\n",
       "        [1, 0, 2, 6, 1, 3, 2, 4, 7, 3, 5, 4, 6, 1, 5, 3]])"
      ]
     },
     "execution_count": 34,
     "metadata": {},
     "output_type": "execute_result"
    }
   ],
   "source": [
    "g.edge_index"
   ]
  },
  {
   "cell_type": "code",
   "execution_count": 35,
   "id": "d8e6f761-2cab-40ce-8b66-137a492df7ca",
   "metadata": {},
   "outputs": [
    {
     "data": {
      "text/plain": [
       "tensor([[ 1,  0,  0],\n",
       "        [ 1,  0,  0],\n",
       "        [12,  0,  1],\n",
       "        [12,  0,  1],\n",
       "        [12,  0,  1],\n",
       "        [12,  0,  1],\n",
       "        [12,  0,  1],\n",
       "        [12,  0,  1],\n",
       "        [ 1,  0,  1],\n",
       "        [12,  0,  1],\n",
       "        [12,  0,  1],\n",
       "        [12,  0,  1],\n",
       "        [12,  0,  1],\n",
       "        [12,  0,  1],\n",
       "        [12,  0,  1],\n",
       "        [ 1,  0,  1]])"
      ]
     },
     "execution_count": 35,
     "metadata": {},
     "output_type": "execute_result"
    }
   ],
   "source": [
    "g.edge_attr"
   ]
  },
  {
   "cell_type": "code",
   "execution_count": 36,
   "id": "81556c00-40cd-4a63-a25e-a2b54900eb98",
   "metadata": {},
   "outputs": [
    {
     "data": {
      "text/plain": [
       "Data(x=[8, 9], edge_index=[2, 16], edge_attr=[16, 3], smiles='CC1=CC(=CC=C1)O')"
      ]
     },
     "execution_count": 36,
     "metadata": {},
     "output_type": "execute_result"
    }
   ],
   "source": [
    "g"
   ]
  },
  {
   "cell_type": "code",
   "execution_count": 37,
   "id": "455bbdd1-6ab8-4b91-a31b-bb0ca3987ffb",
   "metadata": {},
   "outputs": [],
   "source": [
    "G = to_networkx(g)"
   ]
  },
  {
   "cell_type": "code",
   "execution_count": 38,
   "id": "17c31ba9-16b6-41bf-b01a-b5b00f161c6c",
   "metadata": {},
   "outputs": [
    {
     "data": {
      "text/plain": [
       "networkx.classes.digraph.DiGraph"
      ]
     },
     "execution_count": 38,
     "metadata": {},
     "output_type": "execute_result"
    }
   ],
   "source": [
    "type(G)"
   ]
  },
  {
   "cell_type": "code",
   "execution_count": 39,
   "id": "a8f0303d-bfbc-4b32-98b6-317e53198135",
   "metadata": {},
   "outputs": [
    {
     "data": {
      "text/plain": [
       "8"
      ]
     },
     "execution_count": 39,
     "metadata": {},
     "output_type": "execute_result"
    }
   ],
   "source": [
    "G.number_of_nodes()"
   ]
  },
  {
   "cell_type": "code",
   "execution_count": 40,
   "id": "e856a4a8-fb1d-4935-a484-2ccc0a2247e7",
   "metadata": {},
   "outputs": [
    {
     "data": {
      "text/plain": [
       "[0, 1, 2, 3, 4, 5, 6, 7]"
      ]
     },
     "execution_count": 40,
     "metadata": {},
     "output_type": "execute_result"
    }
   ],
   "source": [
    "list(G.nodes)"
   ]
  },
  {
   "cell_type": "code",
   "execution_count": 41,
   "id": "54bb9a47-ed7b-472a-8d9d-8b6250ce1333",
   "metadata": {},
   "outputs": [
    {
     "data": {
      "text/plain": [
       "16"
      ]
     },
     "execution_count": 41,
     "metadata": {},
     "output_type": "execute_result"
    }
   ],
   "source": [
    "G.number_of_edges()"
   ]
  },
  {
   "cell_type": "code",
   "execution_count": 42,
   "id": "6b8128de-82c3-4626-8fc8-66f640fefa7e",
   "metadata": {},
   "outputs": [
    {
     "data": {
      "text/plain": [
       "[(0, 1),\n",
       " (1, 0),\n",
       " (1, 2),\n",
       " (1, 6),\n",
       " (2, 1),\n",
       " (2, 3),\n",
       " (3, 2),\n",
       " (3, 4),\n",
       " (3, 7),\n",
       " (4, 3),\n",
       " (4, 5),\n",
       " (5, 4),\n",
       " (5, 6),\n",
       " (6, 1),\n",
       " (6, 5),\n",
       " (7, 3)]"
      ]
     },
     "execution_count": 42,
     "metadata": {},
     "output_type": "execute_result"
    }
   ],
   "source": [
    "list(G.edges)"
   ]
  },
  {
   "cell_type": "code",
   "execution_count": 43,
   "id": "c88936dc-2fb5-497f-acbc-01809ac0528c",
   "metadata": {},
   "outputs": [
    {
     "data": {
      "image/jpeg": "[encoded data removed]",
      "image/png": "[encoded data removed]",
      "text/plain": [
       "<PIL.PngImagePlugin.PngImageFile image mode=RGB size=300x300>"
      ]
     },
     "execution_count": 43,
     "metadata": {},
     "output_type": "execute_result"
    }
   ],
   "source": [
    "img"
   ]
  },
  {
   "cell_type": "code",
   "execution_count": 44,
   "id": "11a94d58-d17c-4d12-9f2f-47eb33354143",
   "metadata": {},
   "outputs": [
    {
     "data": {
      "image/png": "[encoded data removed]",
      "text/plain": [
       "<Figure size 640x480 with 1 Axes>"
      ]
     },
     "metadata": {},
     "output_type": "display_data"
    }
   ],
   "source": [
    "nx.draw(G, with_labels=True, font_weight='bold')\n",
    "plt.savefig(\"G.png\")"
   ]
  },
  {
   "cell_type": "code",
   "execution_count": 45,
   "id": "95856582-3c2f-4035-bf11-747668f333cb",
   "metadata": {},
   "outputs": [
    {
     "data": {
      "text/html": [
       "<div>\n",
       "<style scoped>\n",
       "    .dataframe tbody tr th:only-of-type {\n",
       "        vertical-align: middle;\n",
       "    }\n",
       "\n",
       "    .dataframe tbody tr th {\n",
       "        vertical-align: top;\n",
       "    }\n",
       "\n",
       "    .dataframe thead th {\n",
       "        text-align: right;\n",
       "    }\n",
       "</style>\n",
       "<table border=\"1\" class=\"dataframe\">\n",
       "  <thead>\n",
       "    <tr style=\"text-align: right;\">\n",
       "      <th></th>\n",
       "      <th>smiles</th>\n",
       "      <th>log_sol</th>\n",
       "    </tr>\n",
       "  </thead>\n",
       "  <tbody>\n",
       "    <tr>\n",
       "      <th>0</th>\n",
       "      <td>C1=CC(=C(C=C1[N+](=O)[O-])[N+](=O)[O-])Cl</td>\n",
       "      <td>-4.340860</td>\n",
       "    </tr>\n",
       "    <tr>\n",
       "      <th>1</th>\n",
       "      <td>C(CCl)Cl</td>\n",
       "      <td>-1.060961</td>\n",
       "    </tr>\n",
       "    <tr>\n",
       "      <th>2</th>\n",
       "      <td>C1=CC(=C(C=C1Cl)Cl)Cl</td>\n",
       "      <td>-3.568441</td>\n",
       "    </tr>\n",
       "    <tr>\n",
       "      <th>3</th>\n",
       "      <td>C1=CC(=C(C=C1Cl)O)Cl</td>\n",
       "      <td>-1.420497</td>\n",
       "    </tr>\n",
       "    <tr>\n",
       "      <th>4</th>\n",
       "      <td>C1=CC(=CC(=C1)O)C=O</td>\n",
       "      <td>-1.230058</td>\n",
       "    </tr>\n",
       "  </tbody>\n",
       "</table>\n",
       "</div>"
      ],
      "text/plain": [
       "                                      smiles   log_sol\n",
       "0  C1=CC(=C(C=C1[N+](=O)[O-])[N+](=O)[O-])Cl -4.340860\n",
       "1                                   C(CCl)Cl -1.060961\n",
       "2                      C1=CC(=C(C=C1Cl)Cl)Cl -3.568441\n",
       "3                       C1=CC(=C(C=C1Cl)O)Cl -1.420497\n",
       "4                        C1=CC(=CC(=C1)O)C=O -1.230058"
      ]
     },
     "execution_count": 45,
     "metadata": {},
     "output_type": "execute_result"
    }
   ],
   "source": [
    "df_final.head()"
   ]
  },
  {
   "cell_type": "code",
   "execution_count": 47,
   "id": "05d3dca6-be78-47ed-a450-98af4b0c9d13",
   "metadata": {},
   "outputs": [],
   "source": [
    "graph_list = []\n",
    "for i, smile in enumerate(df_final['smiles']):\n",
    "  g = from_smiles(smile)\n",
    "  g.x = g.x.float()\n",
    "  y = torch.tensor(df_final['log_sol'][i], dtype=torch.float).view(1, -1)\n",
    "  g.y = y\n",
    "  graph_list.append(g)\n"
   ]
  },
  {
   "cell_type": "code",
   "execution_count": 48,
   "id": "16617d5c-a478-4401-98f3-1839f2ccb720",
   "metadata": {},
   "outputs": [
    {
     "data": {
      "text/plain": [
       "torch_geometric.data.data.Data"
      ]
     },
     "execution_count": 48,
     "metadata": {},
     "output_type": "execute_result"
    }
   ],
   "source": [
    "type(graph_list[0])"
   ]
  },
  {
   "cell_type": "code",
   "execution_count": 49,
   "id": "6f40add2-42b3-4390-99b3-81d23ae9900d",
   "metadata": {},
   "outputs": [
    {
     "data": {
      "text/plain": [
       "Data(x=[4, 9], edge_index=[2, 6], edge_attr=[6, 3], smiles='C(CCl)Cl', y=[1, 1])"
      ]
     },
     "execution_count": 49,
     "metadata": {},
     "output_type": "execute_result"
    }
   ],
   "source": [
    "graph_list[1]"
   ]
  },
  {
   "cell_type": "code",
   "execution_count": 50,
   "id": "24fba463-46cc-417a-a7d9-e6e77fa53053",
   "metadata": {},
   "outputs": [
    {
     "data": {
      "text/plain": [
       "tensor([[-1.0610]])"
      ]
     },
     "execution_count": 50,
     "metadata": {},
     "output_type": "execute_result"
    }
   ],
   "source": [
    "graph_list[1].y"
   ]
  },
  {
   "cell_type": "code",
   "execution_count": 82,
   "id": "93519812-bb73-4695-b0f8-393e650c734c",
   "metadata": {},
   "outputs": [],
   "source": [
    "class MyDataset(InMemoryDataset):\n",
    "    def __init__(self, root, transform=None, pre_transform=None, pre_filter=None):\n",
    "        super().__init__(root, transform, pre_transform, pre_filter)\n",
    "        self.load(self.processed_paths[0])\n",
    "        # For PyG<2.4:\n",
    "        # self.data, self.slices = torch.load(self.processed_paths[0])\n",
    "\n",
    "    @property\n",
    "    def raw_file_names(self):\n",
    "        return 'virdis_solu_final_5.csv'\n",
    "\n",
    "    @property\n",
    "    def processed_file_names(self):\n",
    "        return 'data.dt'\n",
    "\n",
    "    def download(self):\n",
    "        # Download to `self.raw_dir`.\n",
    "        # download_url(url, self.raw_dir)\n",
    "        pass\n",
    "\n",
    "    def process(self):\n",
    "        # Read data into huge `Data` list.\n",
    "        graph_list = []\n",
    "        for i, smile in enumerate(df_final['smiles']):\n",
    "          g = from_smiles(smile)\n",
    "          g.x = g.x.float()\n",
    "          y = torch.tensor(df_final['log_sol'][i], dtype=torch.float).view(1, -1)\n",
    "          g.y = y\n",
    "          graph_list.append(g)\n",
    "\n",
    "\n",
    "        data_list = graph_list\n",
    "\n",
    "        if self.pre_filter is not None:\n",
    "            data_list = [data for data in data_list if self.pre_filter(data)]\n",
    "\n",
    "        if self.pre_transform is not None:\n",
    "            data_list = [self.pre_transform(data) for data in data_list]\n",
    "\n",
    "        self.save(data_list, self.processed_paths[0])"
   ]
  },
  {
   "cell_type": "code",
   "execution_count": 83,
   "id": "877f801d-970c-4aa8-aad8-3dd908049553",
   "metadata": {},
   "outputs": [],
   "source": [
    "virdis = MyDataset(root = '/content/')"
   ]
  },
  {
   "cell_type": "code",
   "execution_count": 84,
   "id": "5117607b-846b-43ae-9c23-c57ed1505bcf",
   "metadata": {},
   "outputs": [
    {
     "data": {
      "text/plain": [
       "__main__.MyDataset"
      ]
     },
     "execution_count": 84,
     "metadata": {},
     "output_type": "execute_result"
    }
   ],
   "source": [
    "type(virdis)"
   ]
  },
  {
   "cell_type": "code",
   "execution_count": 85,
   "id": "b9de2768-b1a9-4228-b27d-77b5728500eb",
   "metadata": {},
   "outputs": [
    {
     "data": {
      "text/plain": [
       "Data(x=[13, 9], edge_index=[2, 24], edge_attr=[24, 3], smiles='CCOP(=S)(OCC)SCSCC', y=[1, 1])"
      ]
     },
     "execution_count": 85,
     "metadata": {},
     "output_type": "execute_result"
    }
   ],
   "source": [
    "virdis[22]"
   ]
  },
  {
   "cell_type": "code",
   "execution_count": 86,
   "id": "b2b83cc7-13f0-4ec3-ba0a-4a00ae171661",
   "metadata": {},
   "outputs": [
    {
     "data": {
      "text/plain": [
       "tensor([[-4.1100]])"
      ]
     },
     "execution_count": 86,
     "metadata": {},
     "output_type": "execute_result"
    }
   ],
   "source": [
    "virdis[22].y"
   ]
  },
  {
   "cell_type": "code",
   "execution_count": 87,
   "id": "7453b3d1-eb97-496c-bf03-53d037ed2e2f",
   "metadata": {},
   "outputs": [
    {
     "data": {
      "text/plain": [
       "1126"
      ]
     },
     "execution_count": 87,
     "metadata": {},
     "output_type": "execute_result"
    }
   ],
   "source": [
    "len(virdis)"
   ]
  },
  {
   "cell_type": "code",
   "execution_count": 88,
   "id": "aba83b26-e312-431e-b326-cda957c33bbe",
   "metadata": {},
   "outputs": [],
   "source": [
    "train_ratio = 0.80  # 80% for training, 20% for testing\n",
    "dataset_size = len(graph_list)\n",
    "train_size = int(train_ratio * dataset_size)\n",
    "test_size = dataset_size - train_size\n",
    "\n",
    "# Split the dataset into train and test subsets\n",
    "generator1 = torch.Generator().manual_seed(42)\n",
    "train_dataset, test_dataset = random_split(graph_list, [train_size, test_size], generator=generator1)"
   ]
  },
  {
   "cell_type": "code",
   "execution_count": 89,
   "id": "dc31826a-d6ad-4aa1-b824-8e8d134cfca0",
   "metadata": {},
   "outputs": [
    {
     "data": {
      "text/html": [
       "<div>\n",
       "<style scoped>\n",
       "    .dataframe tbody tr th:only-of-type {\n",
       "        vertical-align: middle;\n",
       "    }\n",
       "\n",
       "    .dataframe tbody tr th {\n",
       "        vertical-align: top;\n",
       "    }\n",
       "\n",
       "    .dataframe thead th {\n",
       "        text-align: right;\n",
       "    }\n",
       "</style>\n",
       "<table border=\"1\" class=\"dataframe\">\n",
       "  <thead>\n",
       "    <tr style=\"text-align: right;\">\n",
       "      <th></th>\n",
       "      <th>smiles</th>\n",
       "      <th>log_sol</th>\n",
       "    </tr>\n",
       "  </thead>\n",
       "  <tbody>\n",
       "    <tr>\n",
       "      <th>1926</th>\n",
       "      <td>C(CO)C(C(C(C(C(C(C(C(F)(F)F)(F)F)(F)F)(F)F)(F)...</td>\n",
       "      <td>-6.529910</td>\n",
       "    </tr>\n",
       "    <tr>\n",
       "      <th>1482</th>\n",
       "      <td>CC1=CC=C(C=C1)S(=O)(=O)C</td>\n",
       "      <td>-1.987998</td>\n",
       "    </tr>\n",
       "    <tr>\n",
       "      <th>606</th>\n",
       "      <td>C1=CC(=CC(=C1)N)C(F)(F)F</td>\n",
       "      <td>-1.469957</td>\n",
       "    </tr>\n",
       "    <tr>\n",
       "      <th>244</th>\n",
       "      <td>CC(C)N(C1=CC=CC=C1)C(=O)CCl</td>\n",
       "      <td>-2.562272</td>\n",
       "    </tr>\n",
       "    <tr>\n",
       "      <th>2410</th>\n",
       "      <td>C1CN(CCN1CC=CC2=CC=CC=C2)C(C3=CC=CC=C3)C4=CC=C...</td>\n",
       "      <td>-2.691376</td>\n",
       "    </tr>\n",
       "    <tr>\n",
       "      <th>...</th>\n",
       "      <td>...</td>\n",
       "      <td>...</td>\n",
       "    </tr>\n",
       "    <tr>\n",
       "      <th>448</th>\n",
       "      <td>CC(C)(C1=CC(=C(C(=C1)Br)O)Br)C2=CC(=C(C(=C2)Br...</td>\n",
       "      <td>-6.502523</td>\n",
       "    </tr>\n",
       "    <tr>\n",
       "      <th>1273</th>\n",
       "      <td>C1=CC=[N+](C=C1)[O-]</td>\n",
       "      <td>1.021819</td>\n",
       "    </tr>\n",
       "    <tr>\n",
       "      <th>2335</th>\n",
       "      <td>CC(C(C)(C)C)N</td>\n",
       "      <td>0.986088</td>\n",
       "    </tr>\n",
       "    <tr>\n",
       "      <th>497</th>\n",
       "      <td>C1=CC(=C(C(=C1)Cl)Cl)Cl</td>\n",
       "      <td>-4.003365</td>\n",
       "    </tr>\n",
       "    <tr>\n",
       "      <th>1928</th>\n",
       "      <td>CCCOP(=O)(OCC)OCC</td>\n",
       "      <td>0.406315</td>\n",
       "    </tr>\n",
       "  </tbody>\n",
       "</table>\n",
       "<p>2139 rows × 2 columns</p>\n",
       "</div>"
      ],
      "text/plain": [
       "                                                 smiles   log_sol\n",
       "1926  C(CO)C(C(C(C(C(C(C(C(F)(F)F)(F)F)(F)F)(F)F)(F)... -6.529910\n",
       "1482                           CC1=CC=C(C=C1)S(=O)(=O)C -1.987998\n",
       "606                            C1=CC(=CC(=C1)N)C(F)(F)F -1.469957\n",
       "244                         CC(C)N(C1=CC=CC=C1)C(=O)CCl -2.562272\n",
       "2410  C1CN(CCN1CC=CC2=CC=CC=C2)C(C3=CC=CC=C3)C4=CC=C... -2.691376\n",
       "...                                                 ...       ...\n",
       "448   CC(C)(C1=CC(=C(C(=C1)Br)O)Br)C2=CC(=C(C(=C2)Br... -6.502523\n",
       "1273                               C1=CC=[N+](C=C1)[O-]  1.021819\n",
       "2335                                      CC(C(C)(C)C)N  0.986088\n",
       "497                             C1=CC(=C(C(=C1)Cl)Cl)Cl -4.003365\n",
       "1928                                  CCCOP(=O)(OCC)OCC  0.406315\n",
       "\n",
       "[2139 rows x 2 columns]"
      ]
     },
     "execution_count": 89,
     "metadata": {},
     "output_type": "execute_result"
    }
   ],
   "source": [
    "df_final.iloc[train_dataset.indices]"
   ]
  },
  {
   "cell_type": "code",
   "execution_count": 90,
   "id": "02bc59cb-a217-4629-90b5-24a48fbd9ec0",
   "metadata": {},
   "outputs": [],
   "source": [
    "test = df_final.iloc[test_dataset.indices]\n",
    "test.to_csv('test_set.csv', index=None)"
   ]
  },
  {
   "cell_type": "code",
   "execution_count": 91,
   "id": "3475f6a7-8968-472d-a8b9-43ea97141ff1",
   "metadata": {},
   "outputs": [
    {
     "data": {
      "text/plain": [
       "2139"
      ]
     },
     "execution_count": 91,
     "metadata": {},
     "output_type": "execute_result"
    }
   ],
   "source": [
    "len(train_dataset)"
   ]
  },
  {
   "cell_type": "code",
   "execution_count": 92,
   "id": "c28a02f7-00cb-401e-a77a-a0c7949807f5",
   "metadata": {},
   "outputs": [
    {
     "data": {
      "text/plain": [
       "535"
      ]
     },
     "execution_count": 92,
     "metadata": {},
     "output_type": "execute_result"
    }
   ],
   "source": [
    "len(test_dataset)"
   ]
  },
  {
   "cell_type": "code",
   "execution_count": 93,
   "id": "9d070acd-019b-4023-b38d-7332fe41ab0b",
   "metadata": {},
   "outputs": [],
   "source": [
    "train_loader = DataLoader(train_dataset, batch_size=32, shuffle=True)\n",
    "test_loader = DataLoader(test_dataset, batch_size=32)"
   ]
  },
  {
   "cell_type": "code",
   "execution_count": 94,
   "id": "96a541ad-084c-48ed-a52b-743b02f9f92a",
   "metadata": {},
   "outputs": [
    {
     "data": {
      "text/plain": [
       "torch_geometric.loader.dataloader.DataLoader"
      ]
     },
     "execution_count": 94,
     "metadata": {},
     "output_type": "execute_result"
    }
   ],
   "source": [
    "type(train_loader)"
   ]
  },
  {
   "cell_type": "code",
   "execution_count": 95,
   "id": "1eb28f7f-8914-49ff-ade3-5cee729acab5",
   "metadata": {},
   "outputs": [
    {
     "data": {
      "text/plain": [
       "67"
      ]
     },
     "execution_count": 95,
     "metadata": {},
     "output_type": "execute_result"
    }
   ],
   "source": [
    "len(list(train_loader))"
   ]
  },
  {
   "cell_type": "code",
   "execution_count": 96,
   "id": "0d1521ec-59f1-4e31-b912-d5dcddbea356",
   "metadata": {},
   "outputs": [
    {
     "data": {
      "text/plain": [
       "Data(x=[13, 9], edge_index=[2, 26], edge_attr=[26, 3], smiles='C1=CC(=C(C=C1[N+](=O)[O-])[N+](=O)[O-])Cl', y=[1, 1])"
      ]
     },
     "execution_count": 96,
     "metadata": {},
     "output_type": "execute_result"
    }
   ],
   "source": [
    "graph_list[0]"
   ]
  },
  {
   "cell_type": "code",
   "execution_count": 97,
   "id": "ca50fddb-64a9-4932-8054-a24fb2359928",
   "metadata": {},
   "outputs": [],
   "source": [
    "\n",
    "device = torch.device('cuda' if torch.cuda.is_available() else 'cpu')\n",
    "\n",
    "model = AttentiveFP(in_channels=9, hidden_channels=64, out_channels=1,\n",
    "                    edge_dim=3, num_layers=4, num_timesteps=2,\n",
    "                    dropout=0.2).to(device)\n",
    "\n",
    "optimizer = torch.optim.Adam(model.parameters(), lr=10**-2.5,\n",
    "                             weight_decay=10**-5)"
   ]
  },
  {
   "cell_type": "code",
   "execution_count": 98,
   "id": "361163e7-7f14-4721-b8ce-0662a1f51fea",
   "metadata": {},
   "outputs": [
    {
     "name": "stdout",
     "output_type": "stream",
     "text": [
      "AttentiveFP(in_channels=9, hidden_channels=64, out_channels=1, edge_dim=3, num_layers=4, num_timesteps=2)\n"
     ]
    }
   ],
   "source": [
    "print(model)"
   ]
  },
  {
   "cell_type": "code",
   "execution_count": 99,
   "id": "413ad09c-2305-4dde-a8a4-caceea61a0dd",
   "metadata": {},
   "outputs": [],
   "source": [
    "def train():\n",
    "    total_loss = total_samples = 0\n",
    "    for data in train_loader:\n",
    "        data = data.to(device)\n",
    "        optimizer.zero_grad()\n",
    "        out = model(data.x, data.edge_index, data.edge_attr, data.batch)\n",
    "        loss = F.mse_loss(out, data.y)\n",
    "        loss.backward()\n",
    "        optimizer.step()\n",
    "        total_loss += float(loss) * data.num_graphs\n",
    "        total_samples += data.num_graphs\n",
    "    return sqrt(total_loss / total_samples)"
   ]
  },
  {
   "cell_type": "code",
   "execution_count": 100,
   "id": "81af10c2-d4b0-405e-b052-11c494759d6e",
   "metadata": {},
   "outputs": [],
   "source": [
    "@torch.no_grad()\n",
    "def test(loader):\n",
    "    mse = []\n",
    "    model.eval()\n",
    "    for data in loader:\n",
    "        data = data.to(device)\n",
    "        out = model(data.x, data.edge_index, data.edge_attr,data.batch)\n",
    "        l = F.mse_loss(out, data.y, reduction='none').cpu()\n",
    "        mse.append(l)\n",
    "    rmse = float(torch.cat(mse, dim=0).mean().sqrt())\n",
    "    return rmse"
   ]
  },
  {
   "cell_type": "code",
   "execution_count": 101,
   "id": "93795ab1-0876-4c6c-abd3-a8b57320b40c",
   "metadata": {},
   "outputs": [
    {
     "name": "stdout",
     "output_type": "stream",
     "text": [
      "Epoch: 000, Train Loss: 2.0177 Test Loss: 1.8232\n",
      "Epoch: 001, Train Loss: 1.6288 Test Loss: 1.5966\n",
      "Epoch: 002, Train Loss: 1.3993 Test Loss: 1.4055\n",
      "Epoch: 003, Train Loss: 1.2777 Test Loss: 1.2899\n",
      "Epoch: 004, Train Loss: 1.2392 Test Loss: 1.1773\n",
      "Epoch: 005, Train Loss: 1.1271 Test Loss: 1.1880\n",
      "Epoch: 006, Train Loss: 1.0827 Test Loss: 1.1243\n",
      "Epoch: 007, Train Loss: 1.0803 Test Loss: 1.0853\n",
      "Epoch: 008, Train Loss: 1.0316 Test Loss: 1.0717\n",
      "Epoch: 009, Train Loss: 1.0279 Test Loss: 1.0725\n",
      "Epoch: 010, Train Loss: 1.0158 Test Loss: 1.0570\n",
      "Epoch: 011, Train Loss: 1.0472 Test Loss: 1.0556\n",
      "Epoch: 012, Train Loss: 0.9971 Test Loss: 1.0324\n",
      "Epoch: 013, Train Loss: 0.9613 Test Loss: 1.0309\n",
      "Epoch: 014, Train Loss: 0.9587 Test Loss: 1.0151\n",
      "Epoch: 015, Train Loss: 0.9445 Test Loss: 1.0130\n",
      "Epoch: 016, Train Loss: 0.9405 Test Loss: 0.9817\n",
      "Epoch: 017, Train Loss: 0.9136 Test Loss: 0.9586\n",
      "Epoch: 018, Train Loss: 0.9047 Test Loss: 0.9950\n",
      "Epoch: 019, Train Loss: 0.9089 Test Loss: 1.1392\n",
      "Epoch: 020, Train Loss: 0.9118 Test Loss: 1.0141\n",
      "Epoch: 021, Train Loss: 0.9202 Test Loss: 0.9597\n",
      "Epoch: 022, Train Loss: 0.9047 Test Loss: 1.0020\n",
      "Epoch: 023, Train Loss: 0.8808 Test Loss: 0.9649\n",
      "Epoch: 024, Train Loss: 0.8611 Test Loss: 0.9596\n",
      "Epoch: 025, Train Loss: 0.8886 Test Loss: 0.9549\n",
      "Epoch: 026, Train Loss: 0.8454 Test Loss: 0.9428\n",
      "Epoch: 027, Train Loss: 0.8187 Test Loss: 0.9344\n",
      "Epoch: 028, Train Loss: 0.8645 Test Loss: 1.0647\n",
      "Epoch: 029, Train Loss: 0.8301 Test Loss: 1.0000\n",
      "Epoch: 030, Train Loss: 0.8267 Test Loss: 0.9713\n",
      "Epoch: 031, Train Loss: 0.8253 Test Loss: 0.9353\n",
      "Epoch: 032, Train Loss: 0.8098 Test Loss: 0.9283\n",
      "Epoch: 033, Train Loss: 0.8191 Test Loss: 0.9771\n",
      "Epoch: 034, Train Loss: 0.7880 Test Loss: 0.9039\n",
      "Epoch: 035, Train Loss: 0.7984 Test Loss: 0.9675\n",
      "Epoch: 036, Train Loss: 0.7952 Test Loss: 0.9363\n",
      "Epoch: 037, Train Loss: 0.7830 Test Loss: 0.9338\n",
      "Epoch: 038, Train Loss: 0.8283 Test Loss: 0.9481\n",
      "Epoch: 039, Train Loss: 0.7612 Test Loss: 0.9136\n",
      "Epoch: 040, Train Loss: 0.7554 Test Loss: 0.9470\n",
      "Epoch: 041, Train Loss: 0.7778 Test Loss: 0.9390\n",
      "Epoch: 042, Train Loss: 0.7781 Test Loss: 0.9550\n",
      "Epoch: 043, Train Loss: 0.8385 Test Loss: 1.0576\n",
      "Epoch: 044, Train Loss: 1.0541 Test Loss: 1.1194\n",
      "Epoch: 045, Train Loss: 1.0171 Test Loss: 1.0122\n",
      "Epoch: 046, Train Loss: 0.9202 Test Loss: 1.0145\n",
      "Epoch: 047, Train Loss: 0.9209 Test Loss: 1.0051\n",
      "Epoch: 048, Train Loss: 0.8904 Test Loss: 0.9425\n",
      "Epoch: 049, Train Loss: 0.8308 Test Loss: 0.9821\n"
     ]
    },
    {
     "data": {
      "text/plain": [
       "<matplotlib.legend.Legend at 0x7efc25c7e5f0>"
      ]
     },
     "execution_count": 101,
     "metadata": {},
     "output_type": "execute_result"
    },
    {
     "data": {
      "image/png": "[encoded data removed]",
      "text/plain": [
       "<Figure size 640x480 with 1 Axes>"
      ]
     },
     "metadata": {},
     "output_type": "display_data"
    }
   ],
   "source": [
    "score_train = []\n",
    "score_test = []\n",
    "epochs = 50\n",
    "model.reset_parameters()\n",
    "for epoch in range(epochs):\n",
    "    train_rmse = train()\n",
    "    test_rmse = test(test_loader)\n",
    "    score_train.append(train_rmse)\n",
    "    score_test.append(test_rmse)\n",
    "    print(f'Epoch: {epoch:03d}, Train Loss: {train_rmse:.4f} '\n",
    "          f'Test Loss: {test_rmse:.4f}')\n",
    "plt.plot(range(epochs), score_train, c='goldenrod')\n",
    "plt.plot(range(epochs), score_test, c = 'blue')\n",
    "plt.xlabel('Epochs')\n",
    "plt.ylabel('RMSE')\n",
    "plt.legend(['train', 'test'])"
   ]
  },
  {
   "cell_type": "code",
   "execution_count": 102,
   "id": "109a7c25-197e-4af3-9ddd-feeb197c16ad",
   "metadata": {},
   "outputs": [],
   "source": [
    "@torch.no_grad()\n",
    "def eval(loader):\n",
    "    output = []\n",
    "    smi = []\n",
    "    model.eval()\n",
    "    for data in loader:\n",
    "        data = data.to(device)\n",
    "        out = model(data.x, data.edge_index, data.edge_attr, data.batch)\n",
    "        concatenated_data = torch.cat((out, data.y.view(-1, 1)), dim=1)\n",
    "        output.append(concatenated_data)\n",
    "        smi.append(data.smiles)\n",
    "\n",
    "    # Stack the tensors along batch dimension\n",
    "    stacked_output = torch.cat(output, dim=0)\n",
    "    stacked_smiles = np.concatenate(smi)\n",
    "    results = pd.concat([pd.DataFrame(stacked_output.cpu(), columns=['pred', 'actual']), pd.DataFrame(stacked_smiles, columns=['smiles'])], axis=1)\n",
    "    r2 = r2_score(results['actual'], results['pred'])\n",
    "    print(f\"The R2 score is {r2}\")\n",
    "    return results"
   ]
  },
  {
   "cell_type": "code",
   "execution_count": 103,
   "id": "4d1fa991-1713-4d1b-aef6-03c28299ec17",
   "metadata": {},
   "outputs": [
    {
     "name": "stdout",
     "output_type": "stream",
     "text": [
      "The R2 score is 0.8459764719009399\n"
     ]
    }
   ],
   "source": [
    "test_res = eval(test_loader)"
   ]
  },
  {
   "cell_type": "code",
   "execution_count": 104,
   "id": "9dcbc3a6-9dfb-4354-b06d-0b532d7fb756",
   "metadata": {},
   "outputs": [
    {
     "data": {
      "text/html": [
       "<div>\n",
       "<style scoped>\n",
       "    .dataframe tbody tr th:only-of-type {\n",
       "        vertical-align: middle;\n",
       "    }\n",
       "\n",
       "    .dataframe tbody tr th {\n",
       "        vertical-align: top;\n",
       "    }\n",
       "\n",
       "    .dataframe thead th {\n",
       "        text-align: right;\n",
       "    }\n",
       "</style>\n",
       "<table border=\"1\" class=\"dataframe\">\n",
       "  <thead>\n",
       "    <tr style=\"text-align: right;\">\n",
       "      <th></th>\n",
       "      <th>pred</th>\n",
       "      <th>actual</th>\n",
       "      <th>smiles</th>\n",
       "    </tr>\n",
       "  </thead>\n",
       "  <tbody>\n",
       "    <tr>\n",
       "      <th>0</th>\n",
       "      <td>-3.387203</td>\n",
       "      <td>-4.625333</td>\n",
       "      <td>CC1=CC=C(C=C1)S(=O)(=O)C(I)I</td>\n",
       "    </tr>\n",
       "    <tr>\n",
       "      <th>1</th>\n",
       "      <td>-2.946919</td>\n",
       "      <td>-2.888919</td>\n",
       "      <td>C</td>\n",
       "    </tr>\n",
       "    <tr>\n",
       "      <th>2</th>\n",
       "      <td>-0.802988</td>\n",
       "      <td>-1.660081</td>\n",
       "      <td>CC1=C(S(=O)(=O)CCS1(=O)=O)C</td>\n",
       "    </tr>\n",
       "    <tr>\n",
       "      <th>3</th>\n",
       "      <td>-2.946919</td>\n",
       "      <td>-2.834912</td>\n",
       "      <td>C</td>\n",
       "    </tr>\n",
       "    <tr>\n",
       "      <th>4</th>\n",
       "      <td>0.585488</td>\n",
       "      <td>0.522503</td>\n",
       "      <td>C1C(C(C(C(O1)O)O)O)O</td>\n",
       "    </tr>\n",
       "  </tbody>\n",
       "</table>\n",
       "</div>"
      ],
      "text/plain": [
       "       pred    actual                        smiles\n",
       "0 -3.387203 -4.625333  CC1=CC=C(C=C1)S(=O)(=O)C(I)I\n",
       "1 -2.946919 -2.888919                             C\n",
       "2 -0.802988 -1.660081   CC1=C(S(=O)(=O)CCS1(=O)=O)C\n",
       "3 -2.946919 -2.834912                             C\n",
       "4  0.585488  0.522503          C1C(C(C(C(O1)O)O)O)O"
      ]
     },
     "execution_count": 104,
     "metadata": {},
     "output_type": "execute_result"
    }
   ],
   "source": [
    "test_res.head()"
   ]
  },
  {
   "cell_type": "code",
   "execution_count": 105,
   "id": "b65327a7-4fbf-46e4-9c71-057108d3c713",
   "metadata": {},
   "outputs": [
    {
     "data": {
      "text/plain": [
       "np.float64(0.9821391068424111)"
      ]
     },
     "execution_count": 105,
     "metadata": {},
     "output_type": "execute_result"
    }
   ],
   "source": [
    "np.sqrt(mean_squared_error(test_res['actual'], test_res['pred']))"
   ]
  },
  {
   "cell_type": "code",
   "execution_count": 106,
   "id": "6a7b8a93-344a-4f52-8d2d-89f72df9cd01",
   "metadata": {},
   "outputs": [
    {
     "name": "stdout",
     "output_type": "stream",
     "text": [
      "The R2 score is 0.898185133934021\n"
     ]
    }
   ],
   "source": [
    "train_res = eval(train_loader)"
   ]
  },
  {
   "cell_type": "code",
   "execution_count": 107,
   "id": "72f3a63c-551c-4c80-ae43-63d4796ecef6",
   "metadata": {},
   "outputs": [
    {
     "data": {
      "text/html": [
       "<div>\n",
       "<style scoped>\n",
       "    .dataframe tbody tr th:only-of-type {\n",
       "        vertical-align: middle;\n",
       "    }\n",
       "\n",
       "    .dataframe tbody tr th {\n",
       "        vertical-align: top;\n",
       "    }\n",
       "\n",
       "    .dataframe thead th {\n",
       "        text-align: right;\n",
       "    }\n",
       "</style>\n",
       "<table border=\"1\" class=\"dataframe\">\n",
       "  <thead>\n",
       "    <tr style=\"text-align: right;\">\n",
       "      <th></th>\n",
       "      <th>pred</th>\n",
       "      <th>actual</th>\n",
       "      <th>smiles</th>\n",
       "    </tr>\n",
       "  </thead>\n",
       "  <tbody>\n",
       "    <tr>\n",
       "      <th>0</th>\n",
       "      <td>-6.005982</td>\n",
       "      <td>-5.478860</td>\n",
       "      <td>C1=C(C(=C(C(=C1Cl)Cl)Cl)Cl)Cl</td>\n",
       "    </tr>\n",
       "    <tr>\n",
       "      <th>1</th>\n",
       "      <td>-3.585862</td>\n",
       "      <td>-3.488551</td>\n",
       "      <td>C1=CC=C(C=C1)C(C2=CC=C(C=C2)Cl)O</td>\n",
       "    </tr>\n",
       "    <tr>\n",
       "      <th>2</th>\n",
       "      <td>-7.916620</td>\n",
       "      <td>-7.950269</td>\n",
       "      <td>C1=CC(=CC=C1C2=C(C(=C(C=C2Cl)Cl)Cl)Cl)Cl</td>\n",
       "    </tr>\n",
       "    <tr>\n",
       "      <th>3</th>\n",
       "      <td>-2.935128</td>\n",
       "      <td>-2.194457</td>\n",
       "      <td>CCC(C)C1=CC=C(C=C1)O</td>\n",
       "    </tr>\n",
       "    <tr>\n",
       "      <th>4</th>\n",
       "      <td>-0.994753</td>\n",
       "      <td>-1.340781</td>\n",
       "      <td>CCCOC(=O)CC</td>\n",
       "    </tr>\n",
       "  </tbody>\n",
       "</table>\n",
       "</div>"
      ],
      "text/plain": [
       "       pred    actual                                    smiles\n",
       "0 -6.005982 -5.478860             C1=C(C(=C(C(=C1Cl)Cl)Cl)Cl)Cl\n",
       "1 -3.585862 -3.488551          C1=CC=C(C=C1)C(C2=CC=C(C=C2)Cl)O\n",
       "2 -7.916620 -7.950269  C1=CC(=CC=C1C2=C(C(=C(C=C2Cl)Cl)Cl)Cl)Cl\n",
       "3 -2.935128 -2.194457                      CCC(C)C1=CC=C(C=C1)O\n",
       "4 -0.994753 -1.340781                               CCCOC(=O)CC"
      ]
     },
     "execution_count": 107,
     "metadata": {},
     "output_type": "execute_result"
    }
   ],
   "source": [
    "train_res.head()"
   ]
  },
  {
   "cell_type": "code",
   "execution_count": 108,
   "id": "4642c62f-1db7-4f44-ab5f-cbbbb5e369b2",
   "metadata": {},
   "outputs": [
    {
     "data": {
      "text/plain": [
       "np.float64(0.7758484072779582)"
      ]
     },
     "execution_count": 108,
     "metadata": {},
     "output_type": "execute_result"
    }
   ],
   "source": [
    "np.sqrt(mean_squared_error(train_res['actual'], train_res['pred']))"
   ]
  },
  {
   "cell_type": "code",
   "execution_count": 109,
   "id": "1a489bb1-3326-4702-879e-9cd124a91147",
   "metadata": {},
   "outputs": [],
   "source": [
    "torch.save(model, '/content/model_virdis.pth')"
   ]
  },
  {
   "cell_type": "code",
   "execution_count": 110,
   "id": "eff37e76-75e0-4f8e-a7d4-bdc0a8f006d0",
   "metadata": {},
   "outputs": [
    {
     "name": "stderr",
     "output_type": "stream",
     "text": [
      "/tmp/ipykernel_449/441896053.py:1: FutureWarning: You are using `torch.load` with `weights_only=False` (the current default value), which uses the default pickle module implicitly. It is possible to construct malicious pickle data which will execute arbitrary code during unpickling (See https://github.com/pytorch/pytorch/blob/main/SECURITY.md#untrusted-models for more details). In a future release, the default value for `weights_only` will be flipped to `True`. This limits the functions that could be executed during unpickling. Arbitrary objects will no longer be allowed to be loaded via this mode unless they are explicitly allowlisted by the user via `torch.serialization.add_safe_globals`. We recommend you start setting `weights_only=True` for any use case where you don't have full control of the loaded file. Please open an issue on GitHub for any issues related to this experimental feature.\n",
      "  model = torch.load('/content/model_virdis.pth')\n"
     ]
    }
   ],
   "source": [
    "model = torch.load('/content/model_virdis.pth')"
   ]
  },
  {
   "cell_type": "code",
   "execution_count": 111,
   "id": "795d5fc2-68cd-49b7-9ece-614cc7e35d9c",
   "metadata": {},
   "outputs": [
    {
     "name": "stdout",
     "output_type": "stream",
     "text": [
      "The R2 score is 0.8459764719009399\n"
     ]
    }
   ],
   "source": [
    "test_res = eval(test_loader)"
   ]
  },
  {
   "cell_type": "code",
   "execution_count": null,
   "id": "34f41ebf-88cc-49e8-9884-d4e8214037a5",
   "metadata": {},
   "outputs": [],
   "source": []
  },
  {
   "cell_type": "code",
   "execution_count": null,
   "id": "5f489a65-773f-49d0-bb5b-74fe92db1c77",
   "metadata": {},
   "outputs": [],
   "source": []
  }
 ],
 "metadata": {
  "kernelspec": {
   "display_name": "Python 3 (ipykernel)",
   "language": "python",
   "name": "python3"
  },
  "language_info": {
   "codemirror_mode": {
    "name": "ipython",
    "version": 3
   },
   "file_extension": ".py",
   "mimetype": "text/x-python",
   "name": "python",
   "nbconvert_exporter": "python",
   "pygments_lexer": "ipython3",
   "version": "3.10.12"
  }
 },
 "nbformat": 4,
 "nbformat_minor": 5
}
